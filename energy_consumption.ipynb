{
  "cells": [
    {
      "cell_type": "code",
      "execution_count": 1,
      "metadata": {
        "id": "FEOgKhdc68d0"
      },
      "outputs": [],
      "source": [
        "from google.colab import drive"
      ]
    },
    {
      "cell_type": "code",
      "execution_count": 2,
      "metadata": {
        "colab": {
          "base_uri": "https://localhost:8080/"
        },
        "id": "1_wWY5Xp7SRr",
        "outputId": "dca1d150-7259-47f4-b145-adb1bc950229"
      },
      "outputs": [
        {
          "output_type": "stream",
          "name": "stdout",
          "text": [
            "Drive already mounted at /content/gdrive; to attempt to forcibly remount, call drive.mount(\"/content/gdrive\", force_remount=True).\n"
          ]
        }
      ],
      "source": [
        "drive.mount('/content/gdrive')"
      ]
    },
    {
      "cell_type": "code",
      "execution_count": 3,
      "metadata": {
        "colab": {
          "base_uri": "https://localhost:8080/"
        },
        "id": "gVU9_eOB7Xta",
        "outputId": "dd79c0dd-06d0-41c1-f3e2-8c904c4f77e5"
      },
      "outputs": [
        {
          "output_type": "stream",
          "name": "stdout",
          "text": [
            "Archive:  gdrive/MyDrive/Colab Notebooks/data/household_power_consumption.zip\n",
            "replace household_power_consumption.txt? [y]es, [n]o, [A]ll, [N]one, [r]ename: n\n"
          ]
        }
      ],
      "source": [
        "!unzip gdrive/MyDrive/Colab\\ Notebooks/data/household_power_consumption.zip"
      ]
    },
    {
      "cell_type": "markdown",
      "metadata": {
        "id": "1E7I6EuL8FGL"
      },
      "source": [
        "/content/gdrive/MyDrive/Colab Notebooks/data/household_power_consumption.zip"
      ]
    },
    {
      "cell_type": "code",
      "execution_count": 4,
      "metadata": {
        "id": "XbjYcwxL8t5j"
      },
      "outputs": [],
      "source": [
        "import pandas as pd\n",
        "import matplotlib.pyplot as plt"
      ]
    },
    {
      "cell_type": "code",
      "execution_count": 5,
      "metadata": {
        "colab": {
          "base_uri": "https://localhost:8080/"
        },
        "id": "V_2ZpjuQ8vLn",
        "outputId": "d5bcbfb0-5ff4-420b-f2c6-ee913cd19e03"
      },
      "outputs": [
        {
          "output_type": "stream",
          "name": "stderr",
          "text": [
            "/usr/local/lib/python3.7/dist-packages/IPython/core/interactiveshell.py:2882: DtypeWarning: Columns (2,3,4,5,6,7) have mixed types.Specify dtype option on import or set low_memory=False.\n",
            "  exec(code_obj, self.user_global_ns, self.user_ns)\n"
          ]
        }
      ],
      "source": [
        "df = pd.read_csv('household_power_consumption.txt', delimiter=\";\")"
      ]
    },
    {
      "cell_type": "code",
      "execution_count": 6,
      "metadata": {
        "colab": {
          "base_uri": "https://localhost:8080/",
          "height": 176
        },
        "id": "8ZJaC8KE9qgu",
        "outputId": "f7b1a7c4-b156-45aa-fd45-40eb7a9d7c25"
      },
      "outputs": [
        {
          "output_type": "execute_result",
          "data": {
            "text/plain": [
              "         Date      Time Global_active_power Global_reactive_power  Voltage  \\\n",
              "0  16/12/2006  17:24:00               4.216                 0.418  234.840   \n",
              "1  16/12/2006  17:25:00               5.360                 0.436  233.630   \n",
              "\n",
              "  Global_intensity Sub_metering_1 Sub_metering_2  Sub_metering_3  \n",
              "0           18.400          0.000          1.000            17.0  \n",
              "1           23.000          0.000          1.000            16.0  "
            ],
            "text/html": [
              "\n",
              "  <div id=\"df-5ef59ba0-0822-48e8-bf15-3c5dc047fa2b\">\n",
              "    <div class=\"colab-df-container\">\n",
              "      <div>\n",
              "<style scoped>\n",
              "    .dataframe tbody tr th:only-of-type {\n",
              "        vertical-align: middle;\n",
              "    }\n",
              "\n",
              "    .dataframe tbody tr th {\n",
              "        vertical-align: top;\n",
              "    }\n",
              "\n",
              "    .dataframe thead th {\n",
              "        text-align: right;\n",
              "    }\n",
              "</style>\n",
              "<table border=\"1\" class=\"dataframe\">\n",
              "  <thead>\n",
              "    <tr style=\"text-align: right;\">\n",
              "      <th></th>\n",
              "      <th>Date</th>\n",
              "      <th>Time</th>\n",
              "      <th>Global_active_power</th>\n",
              "      <th>Global_reactive_power</th>\n",
              "      <th>Voltage</th>\n",
              "      <th>Global_intensity</th>\n",
              "      <th>Sub_metering_1</th>\n",
              "      <th>Sub_metering_2</th>\n",
              "      <th>Sub_metering_3</th>\n",
              "    </tr>\n",
              "  </thead>\n",
              "  <tbody>\n",
              "    <tr>\n",
              "      <th>0</th>\n",
              "      <td>16/12/2006</td>\n",
              "      <td>17:24:00</td>\n",
              "      <td>4.216</td>\n",
              "      <td>0.418</td>\n",
              "      <td>234.840</td>\n",
              "      <td>18.400</td>\n",
              "      <td>0.000</td>\n",
              "      <td>1.000</td>\n",
              "      <td>17.0</td>\n",
              "    </tr>\n",
              "    <tr>\n",
              "      <th>1</th>\n",
              "      <td>16/12/2006</td>\n",
              "      <td>17:25:00</td>\n",
              "      <td>5.360</td>\n",
              "      <td>0.436</td>\n",
              "      <td>233.630</td>\n",
              "      <td>23.000</td>\n",
              "      <td>0.000</td>\n",
              "      <td>1.000</td>\n",
              "      <td>16.0</td>\n",
              "    </tr>\n",
              "  </tbody>\n",
              "</table>\n",
              "</div>\n",
              "      <button class=\"colab-df-convert\" onclick=\"convertToInteractive('df-5ef59ba0-0822-48e8-bf15-3c5dc047fa2b')\"\n",
              "              title=\"Convert this dataframe to an interactive table.\"\n",
              "              style=\"display:none;\">\n",
              "        \n",
              "  <svg xmlns=\"http://www.w3.org/2000/svg\" height=\"24px\"viewBox=\"0 0 24 24\"\n",
              "       width=\"24px\">\n",
              "    <path d=\"M0 0h24v24H0V0z\" fill=\"none\"/>\n",
              "    <path d=\"M18.56 5.44l.94 2.06.94-2.06 2.06-.94-2.06-.94-.94-2.06-.94 2.06-2.06.94zm-11 1L8.5 8.5l.94-2.06 2.06-.94-2.06-.94L8.5 2.5l-.94 2.06-2.06.94zm10 10l.94 2.06.94-2.06 2.06-.94-2.06-.94-.94-2.06-.94 2.06-2.06.94z\"/><path d=\"M17.41 7.96l-1.37-1.37c-.4-.4-.92-.59-1.43-.59-.52 0-1.04.2-1.43.59L10.3 9.45l-7.72 7.72c-.78.78-.78 2.05 0 2.83L4 21.41c.39.39.9.59 1.41.59.51 0 1.02-.2 1.41-.59l7.78-7.78 2.81-2.81c.8-.78.8-2.07 0-2.86zM5.41 20L4 18.59l7.72-7.72 1.47 1.35L5.41 20z\"/>\n",
              "  </svg>\n",
              "      </button>\n",
              "      \n",
              "  <style>\n",
              "    .colab-df-container {\n",
              "      display:flex;\n",
              "      flex-wrap:wrap;\n",
              "      gap: 12px;\n",
              "    }\n",
              "\n",
              "    .colab-df-convert {\n",
              "      background-color: #E8F0FE;\n",
              "      border: none;\n",
              "      border-radius: 50%;\n",
              "      cursor: pointer;\n",
              "      display: none;\n",
              "      fill: #1967D2;\n",
              "      height: 32px;\n",
              "      padding: 0 0 0 0;\n",
              "      width: 32px;\n",
              "    }\n",
              "\n",
              "    .colab-df-convert:hover {\n",
              "      background-color: #E2EBFA;\n",
              "      box-shadow: 0px 1px 2px rgba(60, 64, 67, 0.3), 0px 1px 3px 1px rgba(60, 64, 67, 0.15);\n",
              "      fill: #174EA6;\n",
              "    }\n",
              "\n",
              "    [theme=dark] .colab-df-convert {\n",
              "      background-color: #3B4455;\n",
              "      fill: #D2E3FC;\n",
              "    }\n",
              "\n",
              "    [theme=dark] .colab-df-convert:hover {\n",
              "      background-color: #434B5C;\n",
              "      box-shadow: 0px 1px 3px 1px rgba(0, 0, 0, 0.15);\n",
              "      filter: drop-shadow(0px 1px 2px rgba(0, 0, 0, 0.3));\n",
              "      fill: #FFFFFF;\n",
              "    }\n",
              "  </style>\n",
              "\n",
              "      <script>\n",
              "        const buttonEl =\n",
              "          document.querySelector('#df-5ef59ba0-0822-48e8-bf15-3c5dc047fa2b button.colab-df-convert');\n",
              "        buttonEl.style.display =\n",
              "          google.colab.kernel.accessAllowed ? 'block' : 'none';\n",
              "\n",
              "        async function convertToInteractive(key) {\n",
              "          const element = document.querySelector('#df-5ef59ba0-0822-48e8-bf15-3c5dc047fa2b');\n",
              "          const dataTable =\n",
              "            await google.colab.kernel.invokeFunction('convertToInteractive',\n",
              "                                                     [key], {});\n",
              "          if (!dataTable) return;\n",
              "\n",
              "          const docLinkHtml = 'Like what you see? Visit the ' +\n",
              "            '<a target=\"_blank\" href=https://colab.research.google.com/notebooks/data_table.ipynb>data table notebook</a>'\n",
              "            + ' to learn more about interactive tables.';\n",
              "          element.innerHTML = '';\n",
              "          dataTable['output_type'] = 'display_data';\n",
              "          await google.colab.output.renderOutput(dataTable, element);\n",
              "          const docLink = document.createElement('div');\n",
              "          docLink.innerHTML = docLinkHtml;\n",
              "          element.appendChild(docLink);\n",
              "        }\n",
              "      </script>\n",
              "    </div>\n",
              "  </div>\n",
              "  "
            ]
          },
          "metadata": {},
          "execution_count": 6
        }
      ],
      "source": [
        "df.head(2)"
      ]
    },
    {
      "cell_type": "code",
      "execution_count": 7,
      "metadata": {
        "colab": {
          "base_uri": "https://localhost:8080/"
        },
        "id": "0xXXT3sa9sdK",
        "outputId": "a777fa57-b5dd-4c9a-900b-55d54f52c5a1"
      },
      "outputs": [
        {
          "output_type": "stream",
          "name": "stdout",
          "text": [
            "<class 'pandas.core.frame.DataFrame'>\n",
            "RangeIndex: 2075259 entries, 0 to 2075258\n",
            "Data columns (total 9 columns):\n",
            " #   Column                 Dtype  \n",
            "---  ------                 -----  \n",
            " 0   Date                   object \n",
            " 1   Time                   object \n",
            " 2   Global_active_power    object \n",
            " 3   Global_reactive_power  object \n",
            " 4   Voltage                object \n",
            " 5   Global_intensity       object \n",
            " 6   Sub_metering_1         object \n",
            " 7   Sub_metering_2         object \n",
            " 8   Sub_metering_3         float64\n",
            "dtypes: float64(1), object(8)\n",
            "memory usage: 142.5+ MB\n"
          ]
        }
      ],
      "source": [
        "df.info()"
      ]
    },
    {
      "cell_type": "markdown",
      "source": [
        "### Question 14 - 16"
      ],
      "metadata": {
        "id": "df-P4G2qAbXS"
      }
    },
    {
      "cell_type": "code",
      "execution_count": 36,
      "metadata": {
        "id": "WxEYS1UoE5LM"
      },
      "outputs": [],
      "source": [
        "df_quiz = pd.read_csv(\"/content/gdrive/MyDrive/Colab Notebooks/data/Time_series_analysis_and_forecast_DATASET.csv\", parse_dates=['FullDate'], index_col='FullDate')"
      ]
    },
    {
      "cell_type": "code",
      "execution_count": 37,
      "metadata": {
        "colab": {
          "base_uri": "https://localhost:8080/",
          "height": 238
        },
        "id": "xSt1TMM6G-hR",
        "outputId": "9ddaacaf-817e-4d0a-bb2d-92ac6b2cd06b"
      },
      "outputs": [
        {
          "output_type": "execute_result",
          "data": {
            "text/plain": [
              "                     Tmax   SysLoad  GasPrice  ElecPrice\n",
              "FullDate                                                \n",
              "2010-09-01 00:00:00  15.8  1688.215      3.69     23.710\n",
              "2010-09-01 01:00:00  15.8  1669.195      3.69     22.635\n",
              "2010-09-01 02:00:00  15.8  1491.980      3.69     22.565\n",
              "2010-09-01 03:00:00  15.8  1330.760      3.69     18.910\n",
              "2010-09-01 04:00:00  15.8  1247.940      3.69     18.030"
            ],
            "text/html": [
              "\n",
              "  <div id=\"df-1193b838-fa29-49b9-96ed-8879d409cd2b\">\n",
              "    <div class=\"colab-df-container\">\n",
              "      <div>\n",
              "<style scoped>\n",
              "    .dataframe tbody tr th:only-of-type {\n",
              "        vertical-align: middle;\n",
              "    }\n",
              "\n",
              "    .dataframe tbody tr th {\n",
              "        vertical-align: top;\n",
              "    }\n",
              "\n",
              "    .dataframe thead th {\n",
              "        text-align: right;\n",
              "    }\n",
              "</style>\n",
              "<table border=\"1\" class=\"dataframe\">\n",
              "  <thead>\n",
              "    <tr style=\"text-align: right;\">\n",
              "      <th></th>\n",
              "      <th>Tmax</th>\n",
              "      <th>SysLoad</th>\n",
              "      <th>GasPrice</th>\n",
              "      <th>ElecPrice</th>\n",
              "    </tr>\n",
              "    <tr>\n",
              "      <th>FullDate</th>\n",
              "      <th></th>\n",
              "      <th></th>\n",
              "      <th></th>\n",
              "      <th></th>\n",
              "    </tr>\n",
              "  </thead>\n",
              "  <tbody>\n",
              "    <tr>\n",
              "      <th>2010-09-01 00:00:00</th>\n",
              "      <td>15.8</td>\n",
              "      <td>1688.215</td>\n",
              "      <td>3.69</td>\n",
              "      <td>23.710</td>\n",
              "    </tr>\n",
              "    <tr>\n",
              "      <th>2010-09-01 01:00:00</th>\n",
              "      <td>15.8</td>\n",
              "      <td>1669.195</td>\n",
              "      <td>3.69</td>\n",
              "      <td>22.635</td>\n",
              "    </tr>\n",
              "    <tr>\n",
              "      <th>2010-09-01 02:00:00</th>\n",
              "      <td>15.8</td>\n",
              "      <td>1491.980</td>\n",
              "      <td>3.69</td>\n",
              "      <td>22.565</td>\n",
              "    </tr>\n",
              "    <tr>\n",
              "      <th>2010-09-01 03:00:00</th>\n",
              "      <td>15.8</td>\n",
              "      <td>1330.760</td>\n",
              "      <td>3.69</td>\n",
              "      <td>18.910</td>\n",
              "    </tr>\n",
              "    <tr>\n",
              "      <th>2010-09-01 04:00:00</th>\n",
              "      <td>15.8</td>\n",
              "      <td>1247.940</td>\n",
              "      <td>3.69</td>\n",
              "      <td>18.030</td>\n",
              "    </tr>\n",
              "  </tbody>\n",
              "</table>\n",
              "</div>\n",
              "      <button class=\"colab-df-convert\" onclick=\"convertToInteractive('df-1193b838-fa29-49b9-96ed-8879d409cd2b')\"\n",
              "              title=\"Convert this dataframe to an interactive table.\"\n",
              "              style=\"display:none;\">\n",
              "        \n",
              "  <svg xmlns=\"http://www.w3.org/2000/svg\" height=\"24px\"viewBox=\"0 0 24 24\"\n",
              "       width=\"24px\">\n",
              "    <path d=\"M0 0h24v24H0V0z\" fill=\"none\"/>\n",
              "    <path d=\"M18.56 5.44l.94 2.06.94-2.06 2.06-.94-2.06-.94-.94-2.06-.94 2.06-2.06.94zm-11 1L8.5 8.5l.94-2.06 2.06-.94-2.06-.94L8.5 2.5l-.94 2.06-2.06.94zm10 10l.94 2.06.94-2.06 2.06-.94-2.06-.94-.94-2.06-.94 2.06-2.06.94z\"/><path d=\"M17.41 7.96l-1.37-1.37c-.4-.4-.92-.59-1.43-.59-.52 0-1.04.2-1.43.59L10.3 9.45l-7.72 7.72c-.78.78-.78 2.05 0 2.83L4 21.41c.39.39.9.59 1.41.59.51 0 1.02-.2 1.41-.59l7.78-7.78 2.81-2.81c.8-.78.8-2.07 0-2.86zM5.41 20L4 18.59l7.72-7.72 1.47 1.35L5.41 20z\"/>\n",
              "  </svg>\n",
              "      </button>\n",
              "      \n",
              "  <style>\n",
              "    .colab-df-container {\n",
              "      display:flex;\n",
              "      flex-wrap:wrap;\n",
              "      gap: 12px;\n",
              "    }\n",
              "\n",
              "    .colab-df-convert {\n",
              "      background-color: #E8F0FE;\n",
              "      border: none;\n",
              "      border-radius: 50%;\n",
              "      cursor: pointer;\n",
              "      display: none;\n",
              "      fill: #1967D2;\n",
              "      height: 32px;\n",
              "      padding: 0 0 0 0;\n",
              "      width: 32px;\n",
              "    }\n",
              "\n",
              "    .colab-df-convert:hover {\n",
              "      background-color: #E2EBFA;\n",
              "      box-shadow: 0px 1px 2px rgba(60, 64, 67, 0.3), 0px 1px 3px 1px rgba(60, 64, 67, 0.15);\n",
              "      fill: #174EA6;\n",
              "    }\n",
              "\n",
              "    [theme=dark] .colab-df-convert {\n",
              "      background-color: #3B4455;\n",
              "      fill: #D2E3FC;\n",
              "    }\n",
              "\n",
              "    [theme=dark] .colab-df-convert:hover {\n",
              "      background-color: #434B5C;\n",
              "      box-shadow: 0px 1px 3px 1px rgba(0, 0, 0, 0.15);\n",
              "      filter: drop-shadow(0px 1px 2px rgba(0, 0, 0, 0.3));\n",
              "      fill: #FFFFFF;\n",
              "    }\n",
              "  </style>\n",
              "\n",
              "      <script>\n",
              "        const buttonEl =\n",
              "          document.querySelector('#df-1193b838-fa29-49b9-96ed-8879d409cd2b button.colab-df-convert');\n",
              "        buttonEl.style.display =\n",
              "          google.colab.kernel.accessAllowed ? 'block' : 'none';\n",
              "\n",
              "        async function convertToInteractive(key) {\n",
              "          const element = document.querySelector('#df-1193b838-fa29-49b9-96ed-8879d409cd2b');\n",
              "          const dataTable =\n",
              "            await google.colab.kernel.invokeFunction('convertToInteractive',\n",
              "                                                     [key], {});\n",
              "          if (!dataTable) return;\n",
              "\n",
              "          const docLinkHtml = 'Like what you see? Visit the ' +\n",
              "            '<a target=\"_blank\" href=https://colab.research.google.com/notebooks/data_table.ipynb>data table notebook</a>'\n",
              "            + ' to learn more about interactive tables.';\n",
              "          element.innerHTML = '';\n",
              "          dataTable['output_type'] = 'display_data';\n",
              "          await google.colab.output.renderOutput(dataTable, element);\n",
              "          const docLink = document.createElement('div');\n",
              "          docLink.innerHTML = docLinkHtml;\n",
              "          element.appendChild(docLink);\n",
              "        }\n",
              "      </script>\n",
              "    </div>\n",
              "  </div>\n",
              "  "
            ]
          },
          "metadata": {},
          "execution_count": 37
        }
      ],
      "source": [
        "df_quiz.head()"
      ]
    },
    {
      "cell_type": "code",
      "execution_count": 38,
      "metadata": {
        "id": "ejgtDZfiHUbC"
      },
      "outputs": [],
      "source": [
        "df_daily = df_quiz.resample('D').sum()"
      ]
    },
    {
      "cell_type": "markdown",
      "source": [
        "### Question 11"
      ],
      "metadata": {
        "id": "KHn1o6k0BxTG"
      }
    },
    {
      "cell_type": "code",
      "source": [
        "plt.plot(df_daily['ElecPrice'])\n",
        "plt.show()"
      ],
      "metadata": {
        "colab": {
          "base_uri": "https://localhost:8080/",
          "height": 265
        },
        "id": "8AUWEnNOBsrF",
        "outputId": "f2bea113-2a8c-4f8f-d543-9c3fbee585d5"
      },
      "execution_count": 41,
      "outputs": [
        {
          "output_type": "display_data",
          "data": {
            "text/plain": [
              "<Figure size 432x288 with 1 Axes>"
            ],
            "image/png": "[encoded data removed]"
          },
          "metadata": {
            "needs_background": "light"
          }
        }
      ]
    },
    {
      "cell_type": "markdown",
      "source": [
        "### Question 12"
      ],
      "metadata": {
        "id": "SlrSEuPTCVns"
      }
    },
    {
      "cell_type": "code",
      "source": [
        "from statsmodels.tsa.stattools import adfuller"
      ],
      "metadata": {
        "id": "lUXy1lDnCZFE"
      },
      "execution_count": 43,
      "outputs": []
    },
    {
      "cell_type": "code",
      "source": [
        "adf_result_sl = adfuller(df_daily['SysLoad'])\n",
        "adf_result_gp = adfuller(df_daily['GasPrice'])"
      ],
      "metadata": {
        "id": "Vg4gYwwsDDSA"
      },
      "execution_count": 49,
      "outputs": []
    },
    {
      "cell_type": "code",
      "source": [
        "print(f\"p-value of SysLoad: {adf_result_sl[1]}\\np-value of GasPrice: {adf_result_gp[1]}\")"
      ],
      "metadata": {
        "colab": {
          "base_uri": "https://localhost:8080/"
        },
        "id": "j9XwJXpaDQZZ",
        "outputId": "ec92a95b-e141-4c04-9aa0-d8e6923b6c0d"
      },
      "execution_count": 51,
      "outputs": [
        {
          "output_type": "stream",
          "name": "stdout",
          "text": [
            "p-value of SysLoad: 0.004253725504574117\n",
            "p-value of GasPrice: 0.04502721288462542\n"
          ]
        }
      ]
    },
    {
      "cell_type": "markdown",
      "source": [
        "### Question 13"
      ],
      "metadata": {
        "id": "0lnsH78tERKV"
      }
    },
    {
      "cell_type": "code",
      "source": [
        "print(f\"Critical values of SysLoad: {adf_result_sl[4]}\")\n",
        "print(f\"Critical values of GasPrice: {adf_result_gp[4]}\")"
      ],
      "metadata": {
        "colab": {
          "base_uri": "https://localhost:8080/"
        },
        "id": "OovQTvl1ET2T",
        "outputId": "52d18579-42fc-40bf-995a-f4da0d448e3b"
      },
      "execution_count": 54,
      "outputs": [
        {
          "output_type": "stream",
          "name": "stdout",
          "text": [
            "Critical values of SysLoad: {'1%': -3.432070672988693, '5%': -2.8623002987378547, '10%': -2.567174716967499}\n",
            "Critical values of GasPrice: {'1%': -3.4320693157877544, '5%': -2.8622996992165364, '10%': -2.5671743978048323}\n"
          ]
        }
      ]
    },
    {
      "cell_type": "code",
      "execution_count": 55,
      "metadata": {
        "id": "3IPKW7_jJfAk"
      },
      "outputs": [],
      "source": [
        "df_daily = df_daily.reset_index()"
      ]
    },
    {
      "cell_type": "code",
      "execution_count": 56,
      "metadata": {
        "id": "KWueU4xdJqx5"
      },
      "outputs": [],
      "source": [
        "df_daily = df_daily.rename(columns={'FullDate':'ds', 'ElecPrice':'y'})"
      ]
    },
    {
      "cell_type": "code",
      "execution_count": 57,
      "metadata": {
        "id": "Fd07TNt_HjbI"
      },
      "outputs": [],
      "source": [
        "train_df = df_daily.loc[:2756, ['ds', 'y']]\n",
        "test_df = df_daily.loc[2757:, ['ds', 'y']]"
      ]
    },
    {
      "cell_type": "code",
      "execution_count": 58,
      "metadata": {
        "colab": {
          "base_uri": "https://localhost:8080/"
        },
        "id": "j2l7ufMfH3oB",
        "outputId": "02cbcf9c-9f2c-408c-f473-e39e6aa6efb3"
      },
      "outputs": [
        {
          "output_type": "execute_result",
          "data": {
            "text/plain": [
              "((2757, 2), (1077, 2))"
            ]
          },
          "metadata": {},
          "execution_count": 58
        }
      ],
      "source": [
        "train_df.shape,test_df.shape"
      ]
    },
    {
      "cell_type": "code",
      "execution_count": 59,
      "metadata": {
        "colab": {
          "base_uri": "https://localhost:8080/",
          "height": 206
        },
        "id": "BCmv-Qu0J3ys",
        "outputId": "3ffb2fd8-a9e5-4c81-8036-c95c007c6ea3"
      },
      "outputs": [
        {
          "output_type": "execute_result",
          "data": {
            "text/plain": [
              "          ds         y\n",
              "0 2010-09-01  2751.700\n",
              "1 2010-09-02   570.810\n",
              "2 2010-09-03   504.975\n",
              "3 2010-09-04   502.275\n",
              "4 2010-09-05   500.555"
            ],
            "text/html": [
              "\n",
              "  <div id=\"df-2162a5f1-265e-4f96-96c4-2621821f5845\">\n",
              "    <div class=\"colab-df-container\">\n",
              "      <div>\n",
              "<style scoped>\n",
              "    .dataframe tbody tr th:only-of-type {\n",
              "        vertical-align: middle;\n",
              "    }\n",
              "\n",
              "    .dataframe tbody tr th {\n",
              "        vertical-align: top;\n",
              "    }\n",
              "\n",
              "    .dataframe thead th {\n",
              "        text-align: right;\n",
              "    }\n",
              "</style>\n",
              "<table border=\"1\" class=\"dataframe\">\n",
              "  <thead>\n",
              "    <tr style=\"text-align: right;\">\n",
              "      <th></th>\n",
              "      <th>ds</th>\n",
              "      <th>y</th>\n",
              "    </tr>\n",
              "  </thead>\n",
              "  <tbody>\n",
              "    <tr>\n",
              "      <th>0</th>\n",
              "      <td>2010-09-01</td>\n",
              "      <td>2751.700</td>\n",
              "    </tr>\n",
              "    <tr>\n",
              "      <th>1</th>\n",
              "      <td>2010-09-02</td>\n",
              "      <td>570.810</td>\n",
              "    </tr>\n",
              "    <tr>\n",
              "      <th>2</th>\n",
              "      <td>2010-09-03</td>\n",
              "      <td>504.975</td>\n",
              "    </tr>\n",
              "    <tr>\n",
              "      <th>3</th>\n",
              "      <td>2010-09-04</td>\n",
              "      <td>502.275</td>\n",
              "    </tr>\n",
              "    <tr>\n",
              "      <th>4</th>\n",
              "      <td>2010-09-05</td>\n",
              "      <td>500.555</td>\n",
              "    </tr>\n",
              "  </tbody>\n",
              "</table>\n",
              "</div>\n",
              "      <button class=\"colab-df-convert\" onclick=\"convertToInteractive('df-2162a5f1-265e-4f96-96c4-2621821f5845')\"\n",
              "              title=\"Convert this dataframe to an interactive table.\"\n",
              "              style=\"display:none;\">\n",
              "        \n",
              "  <svg xmlns=\"http://www.w3.org/2000/svg\" height=\"24px\"viewBox=\"0 0 24 24\"\n",
              "       width=\"24px\">\n",
              "    <path d=\"M0 0h24v24H0V0z\" fill=\"none\"/>\n",
              "    <path d=\"M18.56 5.44l.94 2.06.94-2.06 2.06-.94-2.06-.94-.94-2.06-.94 2.06-2.06.94zm-11 1L8.5 8.5l.94-2.06 2.06-.94-2.06-.94L8.5 2.5l-.94 2.06-2.06.94zm10 10l.94 2.06.94-2.06 2.06-.94-2.06-.94-.94-2.06-.94 2.06-2.06.94z\"/><path d=\"M17.41 7.96l-1.37-1.37c-.4-.4-.92-.59-1.43-.59-.52 0-1.04.2-1.43.59L10.3 9.45l-7.72 7.72c-.78.78-.78 2.05 0 2.83L4 21.41c.39.39.9.59 1.41.59.51 0 1.02-.2 1.41-.59l7.78-7.78 2.81-2.81c.8-.78.8-2.07 0-2.86zM5.41 20L4 18.59l7.72-7.72 1.47 1.35L5.41 20z\"/>\n",
              "  </svg>\n",
              "      </button>\n",
              "      \n",
              "  <style>\n",
              "    .colab-df-container {\n",
              "      display:flex;\n",
              "      flex-wrap:wrap;\n",
              "      gap: 12px;\n",
              "    }\n",
              "\n",
              "    .colab-df-convert {\n",
              "      background-color: #E8F0FE;\n",
              "      border: none;\n",
              "      border-radius: 50%;\n",
              "      cursor: pointer;\n",
              "      display: none;\n",
              "      fill: #1967D2;\n",
              "      height: 32px;\n",
              "      padding: 0 0 0 0;\n",
              "      width: 32px;\n",
              "    }\n",
              "\n",
              "    .colab-df-convert:hover {\n",
              "      background-color: #E2EBFA;\n",
              "      box-shadow: 0px 1px 2px rgba(60, 64, 67, 0.3), 0px 1px 3px 1px rgba(60, 64, 67, 0.15);\n",
              "      fill: #174EA6;\n",
              "    }\n",
              "\n",
              "    [theme=dark] .colab-df-convert {\n",
              "      background-color: #3B4455;\n",
              "      fill: #D2E3FC;\n",
              "    }\n",
              "\n",
              "    [theme=dark] .colab-df-convert:hover {\n",
              "      background-color: #434B5C;\n",
              "      box-shadow: 0px 1px 3px 1px rgba(0, 0, 0, 0.15);\n",
              "      filter: drop-shadow(0px 1px 2px rgba(0, 0, 0, 0.3));\n",
              "      fill: #FFFFFF;\n",
              "    }\n",
              "  </style>\n",
              "\n",
              "      <script>\n",
              "        const buttonEl =\n",
              "          document.querySelector('#df-2162a5f1-265e-4f96-96c4-2621821f5845 button.colab-df-convert');\n",
              "        buttonEl.style.display =\n",
              "          google.colab.kernel.accessAllowed ? 'block' : 'none';\n",
              "\n",
              "        async function convertToInteractive(key) {\n",
              "          const element = document.querySelector('#df-2162a5f1-265e-4f96-96c4-2621821f5845');\n",
              "          const dataTable =\n",
              "            await google.colab.kernel.invokeFunction('convertToInteractive',\n",
              "                                                     [key], {});\n",
              "          if (!dataTable) return;\n",
              "\n",
              "          const docLinkHtml = 'Like what you see? Visit the ' +\n",
              "            '<a target=\"_blank\" href=https://colab.research.google.com/notebooks/data_table.ipynb>data table notebook</a>'\n",
              "            + ' to learn more about interactive tables.';\n",
              "          element.innerHTML = '';\n",
              "          dataTable['output_type'] = 'display_data';\n",
              "          await google.colab.output.renderOutput(dataTable, element);\n",
              "          const docLink = document.createElement('div');\n",
              "          docLink.innerHTML = docLinkHtml;\n",
              "          element.appendChild(docLink);\n",
              "        }\n",
              "      </script>\n",
              "    </div>\n",
              "  </div>\n",
              "  "
            ]
          },
          "metadata": {},
          "execution_count": 59
        }
      ],
      "source": [
        "train_df.head()"
      ]
    },
    {
      "cell_type": "code",
      "source": [
        "from fbprophet import Prophet"
      ],
      "metadata": {
        "id": "4rV3APNJAhn9"
      },
      "execution_count": 60,
      "outputs": []
    },
    {
      "cell_type": "code",
      "source": [
        "model = Prophet()\n",
        "model.fit(train_df)"
      ],
      "metadata": {
        "colab": {
          "base_uri": "https://localhost:8080/"
        },
        "id": "1Mqryw_CAkcT",
        "outputId": "f59f41d6-e4fe-4a68-c9a4-b4914210bcdc"
      },
      "execution_count": 61,
      "outputs": [
        {
          "output_type": "stream",
          "name": "stderr",
          "text": [
            "INFO:fbprophet:Disabling daily seasonality. Run prophet with daily_seasonality=True to override this.\n"
          ]
        },
        {
          "output_type": "execute_result",
          "data": {
            "text/plain": [
              "<fbprophet.forecaster.Prophet at 0x7f812a24a290>"
            ]
          },
          "metadata": {},
          "execution_count": 61
        }
      ]
    },
    {
      "cell_type": "code",
      "source": [
        "test_df.shape"
      ],
      "metadata": {
        "colab": {
          "base_uri": "https://localhost:8080/"
        },
        "id": "aGCFt1vdEBwQ",
        "outputId": "510ba3b8-eb09-43c9-bd96-197ccd28ce25"
      },
      "execution_count": 63,
      "outputs": [
        {
          "output_type": "execute_result",
          "data": {
            "text/plain": [
              "(1077, 2)"
            ]
          },
          "metadata": {},
          "execution_count": 63
        }
      ]
    },
    {
      "cell_type": "code",
      "source": [
        "test_df.columns"
      ],
      "metadata": {
        "colab": {
          "base_uri": "https://localhost:8080/"
        },
        "id": "2Y0QhL0UL2Z5",
        "outputId": "8e5e024e-91bc-43c3-8cd0-157cf0132e28"
      },
      "execution_count": 64,
      "outputs": [
        {
          "output_type": "execute_result",
          "data": {
            "text/plain": [
              "Index(['ds', 'y'], dtype='object')"
            ]
          },
          "metadata": {},
          "execution_count": 64
        }
      ]
    },
    {
      "cell_type": "code",
      "source": [
        "forecast = model.predict(test_df)"
      ],
      "metadata": {
        "id": "eOgFMY8UAzRt"
      },
      "execution_count": 65,
      "outputs": []
    },
    {
      "cell_type": "code",
      "source": [
        "forecast.head()"
      ],
      "metadata": {
        "colab": {
          "base_uri": "https://localhost:8080/",
          "height": 357
        },
        "id": "NndPibFwDiS3",
        "outputId": "f8c3bf06-cf78-48e2-c1fa-49b76fcd83bb"
      },
      "execution_count": 66,
      "outputs": [
        {
          "output_type": "execute_result",
          "data": {
            "text/plain": [
              "          ds        trend  yhat_lower   yhat_upper  trend_lower  trend_upper  \\\n",
              "0 2018-03-20  2691.764386   77.484551  4851.681786  2691.764386  2691.764386   \n",
              "1 2018-03-21  2692.580955  199.190224  5116.552464  2692.580955  2692.580955   \n",
              "2 2018-03-22  2693.397524  311.069844  5072.414809  2693.397524  2693.397524   \n",
              "3 2018-03-23  2694.214093  358.684868  5115.870647  2694.214093  2694.214093   \n",
              "4 2018-03-24  2695.030663 -238.014126  4654.210146  2695.030663  2695.030663   \n",
              "\n",
              "   additive_terms  additive_terms_lower  additive_terms_upper      weekly  \\\n",
              "0     -155.426892           -155.426892           -155.426892    9.749221   \n",
              "1       -2.925496             -2.925496             -2.925496  159.308129   \n",
              "2       95.308217             95.308217             95.308217  257.036327   \n",
              "3     -113.236873           -113.236873           -113.236873   50.257478   \n",
              "4     -438.662722           -438.662722           -438.662722 -271.372061   \n",
              "\n",
              "   weekly_lower  weekly_upper      yearly  yearly_lower  yearly_upper  \\\n",
              "0      9.749221      9.749221 -165.176114   -165.176114   -165.176114   \n",
              "1    159.308129    159.308129 -162.233625   -162.233625   -162.233625   \n",
              "2    257.036327    257.036327 -161.728110   -161.728110   -161.728110   \n",
              "3     50.257478     50.257478 -163.494350   -163.494350   -163.494350   \n",
              "4   -271.372061   -271.372061 -167.290660   -167.290660   -167.290660   \n",
              "\n",
              "   multiplicative_terms  multiplicative_terms_lower  \\\n",
              "0                   0.0                         0.0   \n",
              "1                   0.0                         0.0   \n",
              "2                   0.0                         0.0   \n",
              "3                   0.0                         0.0   \n",
              "4                   0.0                         0.0   \n",
              "\n",
              "   multiplicative_terms_upper         yhat  \n",
              "0                         0.0  2536.337494  \n",
              "1                         0.0  2689.655459  \n",
              "2                         0.0  2788.705741  \n",
              "3                         0.0  2580.977221  \n",
              "4                         0.0  2256.367941  "
            ],
            "text/html": [
              "\n",
              "  <div id=\"df-429ec6df-0252-4e0f-882f-605bb0d5e983\">\n",
              "    <div class=\"colab-df-container\">\n",
              "      <div>\n",
              "<style scoped>\n",
              "    .dataframe tbody tr th:only-of-type {\n",
              "        vertical-align: middle;\n",
              "    }\n",
              "\n",
              "    .dataframe tbody tr th {\n",
              "        vertical-align: top;\n",
              "    }\n",
              "\n",
              "    .dataframe thead th {\n",
              "        text-align: right;\n",
              "    }\n",
              "</style>\n",
              "<table border=\"1\" class=\"dataframe\">\n",
              "  <thead>\n",
              "    <tr style=\"text-align: right;\">\n",
              "      <th></th>\n",
              "      <th>ds</th>\n",
              "      <th>trend</th>\n",
              "      <th>yhat_lower</th>\n",
              "      <th>yhat_upper</th>\n",
              "      <th>trend_lower</th>\n",
              "      <th>trend_upper</th>\n",
              "      <th>additive_terms</th>\n",
              "      <th>additive_terms_lower</th>\n",
              "      <th>additive_terms_upper</th>\n",
              "      <th>weekly</th>\n",
              "      <th>weekly_lower</th>\n",
              "      <th>weekly_upper</th>\n",
              "      <th>yearly</th>\n",
              "      <th>yearly_lower</th>\n",
              "      <th>yearly_upper</th>\n",
              "      <th>multiplicative_terms</th>\n",
              "      <th>multiplicative_terms_lower</th>\n",
              "      <th>multiplicative_terms_upper</th>\n",
              "      <th>yhat</th>\n",
              "    </tr>\n",
              "  </thead>\n",
              "  <tbody>\n",
              "    <tr>\n",
              "      <th>0</th>\n",
              "      <td>2018-03-20</td>\n",
              "      <td>2691.764386</td>\n",
              "      <td>77.484551</td>\n",
              "      <td>4851.681786</td>\n",
              "      <td>2691.764386</td>\n",
              "      <td>2691.764386</td>\n",
              "      <td>-155.426892</td>\n",
              "      <td>-155.426892</td>\n",
              "      <td>-155.426892</td>\n",
              "      <td>9.749221</td>\n",
              "      <td>9.749221</td>\n",
              "      <td>9.749221</td>\n",
              "      <td>-165.176114</td>\n",
              "      <td>-165.176114</td>\n",
              "      <td>-165.176114</td>\n",
              "      <td>0.0</td>\n",
              "      <td>0.0</td>\n",
              "      <td>0.0</td>\n",
              "      <td>2536.337494</td>\n",
              "    </tr>\n",
              "    <tr>\n",
              "      <th>1</th>\n",
              "      <td>2018-03-21</td>\n",
              "      <td>2692.580955</td>\n",
              "      <td>199.190224</td>\n",
              "      <td>5116.552464</td>\n",
              "      <td>2692.580955</td>\n",
              "      <td>2692.580955</td>\n",
              "      <td>-2.925496</td>\n",
              "      <td>-2.925496</td>\n",
              "      <td>-2.925496</td>\n",
              "      <td>159.308129</td>\n",
              "      <td>159.308129</td>\n",
              "      <td>159.308129</td>\n",
              "      <td>-162.233625</td>\n",
              "      <td>-162.233625</td>\n",
              "      <td>-162.233625</td>\n",
              "      <td>0.0</td>\n",
              "      <td>0.0</td>\n",
              "      <td>0.0</td>\n",
              "      <td>2689.655459</td>\n",
              "    </tr>\n",
              "    <tr>\n",
              "      <th>2</th>\n",
              "      <td>2018-03-22</td>\n",
              "      <td>2693.397524</td>\n",
              "      <td>311.069844</td>\n",
              "      <td>5072.414809</td>\n",
              "      <td>2693.397524</td>\n",
              "      <td>2693.397524</td>\n",
              "      <td>95.308217</td>\n",
              "      <td>95.308217</td>\n",
              "      <td>95.308217</td>\n",
              "      <td>257.036327</td>\n",
              "      <td>257.036327</td>\n",
              "      <td>257.036327</td>\n",
              "      <td>-161.728110</td>\n",
              "      <td>-161.728110</td>\n",
              "      <td>-161.728110</td>\n",
              "      <td>0.0</td>\n",
              "      <td>0.0</td>\n",
              "      <td>0.0</td>\n",
              "      <td>2788.705741</td>\n",
              "    </tr>\n",
              "    <tr>\n",
              "      <th>3</th>\n",
              "      <td>2018-03-23</td>\n",
              "      <td>2694.214093</td>\n",
              "      <td>358.684868</td>\n",
              "      <td>5115.870647</td>\n",
              "      <td>2694.214093</td>\n",
              "      <td>2694.214093</td>\n",
              "      <td>-113.236873</td>\n",
              "      <td>-113.236873</td>\n",
              "      <td>-113.236873</td>\n",
              "      <td>50.257478</td>\n",
              "      <td>50.257478</td>\n",
              "      <td>50.257478</td>\n",
              "      <td>-163.494350</td>\n",
              "      <td>-163.494350</td>\n",
              "      <td>-163.494350</td>\n",
              "      <td>0.0</td>\n",
              "      <td>0.0</td>\n",
              "      <td>0.0</td>\n",
              "      <td>2580.977221</td>\n",
              "    </tr>\n",
              "    <tr>\n",
              "      <th>4</th>\n",
              "      <td>2018-03-24</td>\n",
              "      <td>2695.030663</td>\n",
              "      <td>-238.014126</td>\n",
              "      <td>4654.210146</td>\n",
              "      <td>2695.030663</td>\n",
              "      <td>2695.030663</td>\n",
              "      <td>-438.662722</td>\n",
              "      <td>-438.662722</td>\n",
              "      <td>-438.662722</td>\n",
              "      <td>-271.372061</td>\n",
              "      <td>-271.372061</td>\n",
              "      <td>-271.372061</td>\n",
              "      <td>-167.290660</td>\n",
              "      <td>-167.290660</td>\n",
              "      <td>-167.290660</td>\n",
              "      <td>0.0</td>\n",
              "      <td>0.0</td>\n",
              "      <td>0.0</td>\n",
              "      <td>2256.367941</td>\n",
              "    </tr>\n",
              "  </tbody>\n",
              "</table>\n",
              "</div>\n",
              "      <button class=\"colab-df-convert\" onclick=\"convertToInteractive('df-429ec6df-0252-4e0f-882f-605bb0d5e983')\"\n",
              "              title=\"Convert this dataframe to an interactive table.\"\n",
              "              style=\"display:none;\">\n",
              "        \n",
              "  <svg xmlns=\"http://www.w3.org/2000/svg\" height=\"24px\"viewBox=\"0 0 24 24\"\n",
              "       width=\"24px\">\n",
              "    <path d=\"M0 0h24v24H0V0z\" fill=\"none\"/>\n",
              "    <path d=\"M18.56 5.44l.94 2.06.94-2.06 2.06-.94-2.06-.94-.94-2.06-.94 2.06-2.06.94zm-11 1L8.5 8.5l.94-2.06 2.06-.94-2.06-.94L8.5 2.5l-.94 2.06-2.06.94zm10 10l.94 2.06.94-2.06 2.06-.94-2.06-.94-.94-2.06-.94 2.06-2.06.94z\"/><path d=\"M17.41 7.96l-1.37-1.37c-.4-.4-.92-.59-1.43-.59-.52 0-1.04.2-1.43.59L10.3 9.45l-7.72 7.72c-.78.78-.78 2.05 0 2.83L4 21.41c.39.39.9.59 1.41.59.51 0 1.02-.2 1.41-.59l7.78-7.78 2.81-2.81c.8-.78.8-2.07 0-2.86zM5.41 20L4 18.59l7.72-7.72 1.47 1.35L5.41 20z\"/>\n",
              "  </svg>\n",
              "      </button>\n",
              "      \n",
              "  <style>\n",
              "    .colab-df-container {\n",
              "      display:flex;\n",
              "      flex-wrap:wrap;\n",
              "      gap: 12px;\n",
              "    }\n",
              "\n",
              "    .colab-df-convert {\n",
              "      background-color: #E8F0FE;\n",
              "      border: none;\n",
              "      border-radius: 50%;\n",
              "      cursor: pointer;\n",
              "      display: none;\n",
              "      fill: #1967D2;\n",
              "      height: 32px;\n",
              "      padding: 0 0 0 0;\n",
              "      width: 32px;\n",
              "    }\n",
              "\n",
              "    .colab-df-convert:hover {\n",
              "      background-color: #E2EBFA;\n",
              "      box-shadow: 0px 1px 2px rgba(60, 64, 67, 0.3), 0px 1px 3px 1px rgba(60, 64, 67, 0.15);\n",
              "      fill: #174EA6;\n",
              "    }\n",
              "\n",
              "    [theme=dark] .colab-df-convert {\n",
              "      background-color: #3B4455;\n",
              "      fill: #D2E3FC;\n",
              "    }\n",
              "\n",
              "    [theme=dark] .colab-df-convert:hover {\n",
              "      background-color: #434B5C;\n",
              "      box-shadow: 0px 1px 3px 1px rgba(0, 0, 0, 0.15);\n",
              "      filter: drop-shadow(0px 1px 2px rgba(0, 0, 0, 0.3));\n",
              "      fill: #FFFFFF;\n",
              "    }\n",
              "  </style>\n",
              "\n",
              "      <script>\n",
              "        const buttonEl =\n",
              "          document.querySelector('#df-429ec6df-0252-4e0f-882f-605bb0d5e983 button.colab-df-convert');\n",
              "        buttonEl.style.display =\n",
              "          google.colab.kernel.accessAllowed ? 'block' : 'none';\n",
              "\n",
              "        async function convertToInteractive(key) {\n",
              "          const element = document.querySelector('#df-429ec6df-0252-4e0f-882f-605bb0d5e983');\n",
              "          const dataTable =\n",
              "            await google.colab.kernel.invokeFunction('convertToInteractive',\n",
              "                                                     [key], {});\n",
              "          if (!dataTable) return;\n",
              "\n",
              "          const docLinkHtml = 'Like what you see? Visit the ' +\n",
              "            '<a target=\"_blank\" href=https://colab.research.google.com/notebooks/data_table.ipynb>data table notebook</a>'\n",
              "            + ' to learn more about interactive tables.';\n",
              "          element.innerHTML = '';\n",
              "          dataTable['output_type'] = 'display_data';\n",
              "          await google.colab.output.renderOutput(dataTable, element);\n",
              "          const docLink = document.createElement('div');\n",
              "          docLink.innerHTML = docLinkHtml;\n",
              "          element.appendChild(docLink);\n",
              "        }\n",
              "      </script>\n",
              "    </div>\n",
              "  </div>\n",
              "  "
            ]
          },
          "metadata": {},
          "execution_count": 66
        }
      ]
    },
    {
      "cell_type": "code",
      "source": [
        "from sklearn.metrics import mean_absolute_percentage_error, mean_squared_error"
      ],
      "metadata": {
        "id": "UPwWr_y7EOSP"
      },
      "execution_count": 67,
      "outputs": []
    },
    {
      "cell_type": "code",
      "source": [
        "prediction = forecast['yhat']"
      ],
      "metadata": {
        "id": "ijjrvk0HEH7O"
      },
      "execution_count": 68,
      "outputs": []
    },
    {
      "cell_type": "code",
      "source": [
        "import numpy as np"
      ],
      "metadata": {
        "id": "1vBfw0j1G9hS"
      },
      "execution_count": 78,
      "outputs": []
    },
    {
      "cell_type": "code",
      "source": [
        "mape = mean_absolute_percentage_error(test_df['y'], prediction)\n",
        "mape * 100"
      ],
      "metadata": {
        "colab": {
          "base_uri": "https://localhost:8080/"
        },
        "id": "7OPJ78zOICsq",
        "outputId": "cd4b4144-ddfb-45cf-f1f5-a975e23eda68"
      },
      "execution_count": 128,
      "outputs": [
        {
          "output_type": "execute_result",
          "data": {
            "text/plain": [
              "549.4751413716547"
            ]
          },
          "metadata": {},
          "execution_count": 128
        }
      ]
    },
    {
      "cell_type": "code",
      "source": [
        "def mape(y_true, y_pred):\n",
        "    length = len(y_true)\n",
        "    mae = np.sum((y_true - y_pred) / y_true)\n",
        "    return mae * 100"
      ],
      "metadata": {
        "id": "JCZ8BxumGzgk"
      },
      "execution_count": 83,
      "outputs": []
    },
    {
      "cell_type": "code",
      "source": [
        "mape_test = mape(test_df['y'], prediction)"
      ],
      "metadata": {
        "id": "cBwPEANeEVfL"
      },
      "execution_count": 84,
      "outputs": []
    },
    {
      "cell_type": "code",
      "source": [
        "mape_test"
      ],
      "metadata": {
        "colab": {
          "base_uri": "https://localhost:8080/"
        },
        "id": "cKztbIeLEjrz",
        "outputId": "002610ed-9302-4522-adc4-9817f6665c3c"
      },
      "execution_count": 85,
      "outputs": [
        {
          "output_type": "execute_result",
          "data": {
            "text/plain": [
              "0.0"
            ]
          },
          "metadata": {},
          "execution_count": 85
        }
      ]
    },
    {
      "cell_type": "markdown",
      "source": [
        "### QUestion 15"
      ],
      "metadata": {
        "id": "yroVTDs7I6CY"
      }
    },
    {
      "cell_type": "code",
      "source": [
        "rmse = np.sqrt(mean_squared_error(test_df['y'], prediction))\n",
        "rmse"
      ],
      "metadata": {
        "colab": {
          "base_uri": "https://localhost:8080/"
        },
        "id": "yJZBofAsI89S",
        "outputId": "972a1ed3-5c36-436b-82e3-891131ca93a7"
      },
      "execution_count": 94,
      "outputs": [
        {
          "output_type": "execute_result",
          "data": {
            "text/plain": [
              "3218.15577651241"
            ]
          },
          "metadata": {},
          "execution_count": 94
        }
      ]
    },
    {
      "cell_type": "markdown",
      "source": [
        "### Question 16"
      ],
      "metadata": {
        "id": "n7JJcc-pJZST"
      }
    },
    {
      "cell_type": "code",
      "source": [
        "model.plot_components(forecast)\n",
        "plt.show()"
      ],
      "metadata": {
        "colab": {
          "base_uri": "https://localhost:8080/",
          "height": 657
        },
        "id": "D1_VmbvJCACY",
        "outputId": "4207d197-10b6-4293-f58a-bb49d60848ca"
      },
      "execution_count": 95,
      "outputs": [
        {
          "output_type": "display_data",
          "data": {
            "text/plain": [
              "<Figure size 648x648 with 3 Axes>"
            ],
            "image/png": "[encoded data removed]"
          },
          "metadata": {}
        }
      ]
    },
    {
      "cell_type": "markdown",
      "source": [
        "### Question 17 - 19"
      ],
      "metadata": {
        "id": "uYpOG0E1IhqZ"
      }
    },
    {
      "cell_type": "code",
      "source": [
        "df_daily = df_daily.rename(columns={'SysLoad':'add1', 'Tmax':'add2', 'GasPrice':'add3'})"
      ],
      "metadata": {
        "id": "72jAPCnFIr6r"
      },
      "execution_count": 96,
      "outputs": []
    },
    {
      "cell_type": "code",
      "source": [
        "train_df = df_daily[:2757]\n",
        "test_df = df_daily[2757:]"
      ],
      "metadata": {
        "id": "Kgv5kQI8JQZB"
      },
      "execution_count": 97,
      "outputs": []
    },
    {
      "cell_type": "code",
      "source": [
        "test_x = test_df[['ds', 'add1', 'add2', 'add3']]\n",
        "test_y = test_df['y']"
      ],
      "metadata": {
        "id": "9KVfxodV-Uxr"
      },
      "execution_count": 98,
      "outputs": []
    },
    {
      "cell_type": "code",
      "source": [
        "test_x.head()"
      ],
      "metadata": {
        "colab": {
          "base_uri": "https://localhost:8080/",
          "height": 206
        },
        "id": "jXQlnwQ1-pjZ",
        "outputId": "fbbe2385-7001-48a9-e06b-cc317d4b2b8e"
      },
      "execution_count": 99,
      "outputs": [
        {
          "output_type": "execute_result",
          "data": {
            "text/plain": [
              "             ds         add1   add2      add3\n",
              "2757 2018-03-20   7696.91130  540.0  201.5880\n",
              "2758 2018-03-21   4658.05865  571.2  203.2560\n",
              "2759 2018-03-22  19161.78525  722.4  203.2560\n",
              "2760 2018-03-23  18090.43435  811.2  198.6456\n",
              "2761 2018-03-24   3763.53865  832.8  180.2160"
            ],
            "text/html": [
              "\n",
              "  <div id=\"df-e54a0550-7e17-43a2-abcc-ac439dc10446\">\n",
              "    <div class=\"colab-df-container\">\n",
              "      <div>\n",
              "<style scoped>\n",
              "    .dataframe tbody tr th:only-of-type {\n",
              "        vertical-align: middle;\n",
              "    }\n",
              "\n",
              "    .dataframe tbody tr th {\n",
              "        vertical-align: top;\n",
              "    }\n",
              "\n",
              "    .dataframe thead th {\n",
              "        text-align: right;\n",
              "    }\n",
              "</style>\n",
              "<table border=\"1\" class=\"dataframe\">\n",
              "  <thead>\n",
              "    <tr style=\"text-align: right;\">\n",
              "      <th></th>\n",
              "      <th>ds</th>\n",
              "      <th>add1</th>\n",
              "      <th>add2</th>\n",
              "      <th>add3</th>\n",
              "    </tr>\n",
              "  </thead>\n",
              "  <tbody>\n",
              "    <tr>\n",
              "      <th>2757</th>\n",
              "      <td>2018-03-20</td>\n",
              "      <td>7696.91130</td>\n",
              "      <td>540.0</td>\n",
              "      <td>201.5880</td>\n",
              "    </tr>\n",
              "    <tr>\n",
              "      <th>2758</th>\n",
              "      <td>2018-03-21</td>\n",
              "      <td>4658.05865</td>\n",
              "      <td>571.2</td>\n",
              "      <td>203.2560</td>\n",
              "    </tr>\n",
              "    <tr>\n",
              "      <th>2759</th>\n",
              "      <td>2018-03-22</td>\n",
              "      <td>19161.78525</td>\n",
              "      <td>722.4</td>\n",
              "      <td>203.2560</td>\n",
              "    </tr>\n",
              "    <tr>\n",
              "      <th>2760</th>\n",
              "      <td>2018-03-23</td>\n",
              "      <td>18090.43435</td>\n",
              "      <td>811.2</td>\n",
              "      <td>198.6456</td>\n",
              "    </tr>\n",
              "    <tr>\n",
              "      <th>2761</th>\n",
              "      <td>2018-03-24</td>\n",
              "      <td>3763.53865</td>\n",
              "      <td>832.8</td>\n",
              "      <td>180.2160</td>\n",
              "    </tr>\n",
              "  </tbody>\n",
              "</table>\n",
              "</div>\n",
              "      <button class=\"colab-df-convert\" onclick=\"convertToInteractive('df-e54a0550-7e17-43a2-abcc-ac439dc10446')\"\n",
              "              title=\"Convert this dataframe to an interactive table.\"\n",
              "              style=\"display:none;\">\n",
              "        \n",
              "  <svg xmlns=\"http://www.w3.org/2000/svg\" height=\"24px\"viewBox=\"0 0 24 24\"\n",
              "       width=\"24px\">\n",
              "    <path d=\"M0 0h24v24H0V0z\" fill=\"none\"/>\n",
              "    <path d=\"M18.56 5.44l.94 2.06.94-2.06 2.06-.94-2.06-.94-.94-2.06-.94 2.06-2.06.94zm-11 1L8.5 8.5l.94-2.06 2.06-.94-2.06-.94L8.5 2.5l-.94 2.06-2.06.94zm10 10l.94 2.06.94-2.06 2.06-.94-2.06-.94-.94-2.06-.94 2.06-2.06.94z\"/><path d=\"M17.41 7.96l-1.37-1.37c-.4-.4-.92-.59-1.43-.59-.52 0-1.04.2-1.43.59L10.3 9.45l-7.72 7.72c-.78.78-.78 2.05 0 2.83L4 21.41c.39.39.9.59 1.41.59.51 0 1.02-.2 1.41-.59l7.78-7.78 2.81-2.81c.8-.78.8-2.07 0-2.86zM5.41 20L4 18.59l7.72-7.72 1.47 1.35L5.41 20z\"/>\n",
              "  </svg>\n",
              "      </button>\n",
              "      \n",
              "  <style>\n",
              "    .colab-df-container {\n",
              "      display:flex;\n",
              "      flex-wrap:wrap;\n",
              "      gap: 12px;\n",
              "    }\n",
              "\n",
              "    .colab-df-convert {\n",
              "      background-color: #E8F0FE;\n",
              "      border: none;\n",
              "      border-radius: 50%;\n",
              "      cursor: pointer;\n",
              "      display: none;\n",
              "      fill: #1967D2;\n",
              "      height: 32px;\n",
              "      padding: 0 0 0 0;\n",
              "      width: 32px;\n",
              "    }\n",
              "\n",
              "    .colab-df-convert:hover {\n",
              "      background-color: #E2EBFA;\n",
              "      box-shadow: 0px 1px 2px rgba(60, 64, 67, 0.3), 0px 1px 3px 1px rgba(60, 64, 67, 0.15);\n",
              "      fill: #174EA6;\n",
              "    }\n",
              "\n",
              "    [theme=dark] .colab-df-convert {\n",
              "      background-color: #3B4455;\n",
              "      fill: #D2E3FC;\n",
              "    }\n",
              "\n",
              "    [theme=dark] .colab-df-convert:hover {\n",
              "      background-color: #434B5C;\n",
              "      box-shadow: 0px 1px 3px 1px rgba(0, 0, 0, 0.15);\n",
              "      filter: drop-shadow(0px 1px 2px rgba(0, 0, 0, 0.3));\n",
              "      fill: #FFFFFF;\n",
              "    }\n",
              "  </style>\n",
              "\n",
              "      <script>\n",
              "        const buttonEl =\n",
              "          document.querySelector('#df-e54a0550-7e17-43a2-abcc-ac439dc10446 button.colab-df-convert');\n",
              "        buttonEl.style.display =\n",
              "          google.colab.kernel.accessAllowed ? 'block' : 'none';\n",
              "\n",
              "        async function convertToInteractive(key) {\n",
              "          const element = document.querySelector('#df-e54a0550-7e17-43a2-abcc-ac439dc10446');\n",
              "          const dataTable =\n",
              "            await google.colab.kernel.invokeFunction('convertToInteractive',\n",
              "                                                     [key], {});\n",
              "          if (!dataTable) return;\n",
              "\n",
              "          const docLinkHtml = 'Like what you see? Visit the ' +\n",
              "            '<a target=\"_blank\" href=https://colab.research.google.com/notebooks/data_table.ipynb>data table notebook</a>'\n",
              "            + ' to learn more about interactive tables.';\n",
              "          element.innerHTML = '';\n",
              "          dataTable['output_type'] = 'display_data';\n",
              "          await google.colab.output.renderOutput(dataTable, element);\n",
              "          const docLink = document.createElement('div');\n",
              "          docLink.innerHTML = docLinkHtml;\n",
              "          element.appendChild(docLink);\n",
              "        }\n",
              "      </script>\n",
              "    </div>\n",
              "  </div>\n",
              "  "
            ]
          },
          "metadata": {},
          "execution_count": 99
        }
      ]
    },
    {
      "cell_type": "code",
      "source": [
        "test_y.head()"
      ],
      "metadata": {
        "colab": {
          "base_uri": "https://localhost:8080/"
        },
        "id": "DJoR-AsJ-sEi",
        "outputId": "52b987e1-0cff-4a9d-acef-69afe1f9b168"
      },
      "execution_count": 100,
      "outputs": [
        {
          "output_type": "execute_result",
          "data": {
            "text/plain": [
              "2757    1833.00\n",
              "2758    1730.49\n",
              "2759    2260.55\n",
              "2760    2138.76\n",
              "2761    1721.70\n",
              "Name: y, dtype: float64"
            ]
          },
          "metadata": {},
          "execution_count": 100
        }
      ]
    },
    {
      "cell_type": "code",
      "source": [
        "train_df.shape, test_df.shape"
      ],
      "metadata": {
        "colab": {
          "base_uri": "https://localhost:8080/"
        },
        "id": "25PAUfFZJiqj",
        "outputId": "632f1370-2ef5-4faf-d0a3-dc85a051f3f8"
      },
      "execution_count": 101,
      "outputs": [
        {
          "output_type": "execute_result",
          "data": {
            "text/plain": [
              "((2757, 5), (1077, 5))"
            ]
          },
          "metadata": {},
          "execution_count": 101
        }
      ]
    },
    {
      "cell_type": "code",
      "source": [
        "model2 = Prophet()\n",
        "model2.add_regressor('add1')\n",
        "model2.add_regressor('add2')\n",
        "model2.add_regressor('add3')"
      ],
      "metadata": {
        "colab": {
          "base_uri": "https://localhost:8080/"
        },
        "id": "1hiVw0oBJ9-p",
        "outputId": "d4c07979-e209-45a2-c6fe-81bd052f92c4"
      },
      "execution_count": 102,
      "outputs": [
        {
          "output_type": "execute_result",
          "data": {
            "text/plain": [
              "<fbprophet.forecaster.Prophet at 0x7f8129f69950>"
            ]
          },
          "metadata": {},
          "execution_count": 102
        }
      ]
    },
    {
      "cell_type": "code",
      "source": [
        "model2.fit(train_df)"
      ],
      "metadata": {
        "colab": {
          "base_uri": "https://localhost:8080/"
        },
        "id": "e4R8INTDMnxB",
        "outputId": "36ddf839-dc8c-4e69-cc83-d292b0324ada"
      },
      "execution_count": 103,
      "outputs": [
        {
          "output_type": "stream",
          "name": "stderr",
          "text": [
            "INFO:fbprophet:Disabling daily seasonality. Run prophet with daily_seasonality=True to override this.\n"
          ]
        },
        {
          "output_type": "execute_result",
          "data": {
            "text/plain": [
              "<fbprophet.forecaster.Prophet at 0x7f8129f69950>"
            ]
          },
          "metadata": {},
          "execution_count": 103
        }
      ]
    },
    {
      "cell_type": "code",
      "source": [
        "forecast2 = model2.predict(test_x)"
      ],
      "metadata": {
        "id": "LG7h0_R3MsRp"
      },
      "execution_count": 104,
      "outputs": []
    },
    {
      "cell_type": "code",
      "source": [
        "prediction2 = forecast2['yhat']"
      ],
      "metadata": {
        "id": "nfuXPeA_NHJP"
      },
      "execution_count": 105,
      "outputs": []
    },
    {
      "cell_type": "markdown",
      "source": [
        "### Question 17"
      ],
      "metadata": {
        "id": "ZQXACberKAhy"
      }
    },
    {
      "cell_type": "code",
      "source": [
        "mape2 = mean_absolute_percentage_error(test_df['y'], prediction2)\n",
        "mape2 * 100"
      ],
      "metadata": {
        "colab": {
          "base_uri": "https://localhost:8080/"
        },
        "id": "qejmKemFMyts",
        "outputId": "73123df9-e583-4598-e7ed-941dc31d8c1f"
      },
      "execution_count": 107,
      "outputs": [
        {
          "output_type": "execute_result",
          "data": {
            "text/plain": [
              "233.74494702819595"
            ]
          },
          "metadata": {},
          "execution_count": 107
        }
      ]
    },
    {
      "cell_type": "markdown",
      "source": [
        "### Question 18"
      ],
      "metadata": {
        "id": "-iir45PYKEwk"
      }
    },
    {
      "cell_type": "code",
      "source": [
        "rms2 = np.sqrt(mean_squared_error(test_df['y'], prediction2))\n",
        "rms2"
      ],
      "metadata": {
        "colab": {
          "base_uri": "https://localhost:8080/"
        },
        "id": "cfI1pcNIKHVy",
        "outputId": "addffd45-4d7e-4c19-a467-760074de8904"
      },
      "execution_count": 108,
      "outputs": [
        {
          "output_type": "execute_result",
          "data": {
            "text/plain": [
              "2709.6493421662344"
            ]
          },
          "metadata": {},
          "execution_count": 108
        }
      ]
    },
    {
      "cell_type": "code",
      "source": [
        "model2.plot_components(forecast2)\n",
        "plt.show()"
      ],
      "metadata": {
        "colab": {
          "base_uri": "https://localhost:8080/",
          "height": 873
        },
        "id": "yb-RShymNVoJ",
        "outputId": "e79904c9-447c-49af-ff91-ccf37c7974ce"
      },
      "execution_count": 109,
      "outputs": [
        {
          "output_type": "display_data",
          "data": {
            "text/plain": [
              "<Figure size 648x864 with 4 Axes>"
            ],
            "image/png": "[encoded data removed]"
          },
          "metadata": {}
        }
      ]
    },
    {
      "cell_type": "markdown",
      "source": [
        "### Question 20"
      ],
      "metadata": {
        "id": "JpwaedQqL0d4"
      }
    },
    {
      "cell_type": "code",
      "source": [
        "model3 = Prophet()\n",
        "model3.add_regressor('add2')\n",
        "model3.add_regressor('add3')"
      ],
      "metadata": {
        "colab": {
          "base_uri": "https://localhost:8080/"
        },
        "id": "Juf6ggwZKhmX",
        "outputId": "dc46f659-d91c-48c0-d940-b7628dd89c26"
      },
      "execution_count": 124,
      "outputs": [
        {
          "output_type": "execute_result",
          "data": {
            "text/plain": [
              "<fbprophet.forecaster.Prophet at 0x7f812828aed0>"
            ]
          },
          "metadata": {},
          "execution_count": 124
        }
      ]
    },
    {
      "cell_type": "code",
      "source": [
        "train_df.pop('add1')"
      ],
      "metadata": {
        "colab": {
          "base_uri": "https://localhost:8080/"
        },
        "id": "NO4_FEq8LpGv",
        "outputId": "cb887368-17b5-4ff0-d705-050999abaa17"
      },
      "execution_count": 122,
      "outputs": [
        {
          "output_type": "execute_result",
          "data": {
            "text/plain": [
              "0       41565.38000\n",
              "1       38898.99000\n",
              "2       41665.76000\n",
              "3       35638.08500\n",
              "4       35611.41000\n",
              "           ...     \n",
              "2752    27139.02585\n",
              "2753    19710.46400\n",
              "2754     1079.34705\n",
              "2755    -4102.43795\n",
              "2756     8731.39945\n",
              "Name: add1, Length: 2757, dtype: float64"
            ]
          },
          "metadata": {},
          "execution_count": 122
        }
      ]
    },
    {
      "cell_type": "code",
      "source": [
        "model3.fit(train_df)"
      ],
      "metadata": {
        "colab": {
          "base_uri": "https://localhost:8080/"
        },
        "id": "aDtD3CyeK5bv",
        "outputId": "e17141df-f05c-41f9-9192-9c3273d179d6"
      },
      "execution_count": 125,
      "outputs": [
        {
          "output_type": "stream",
          "name": "stderr",
          "text": [
            "INFO:fbprophet:Disabling daily seasonality. Run prophet with daily_seasonality=True to override this.\n"
          ]
        },
        {
          "output_type": "execute_result",
          "data": {
            "text/plain": [
              "<fbprophet.forecaster.Prophet at 0x7f812828aed0>"
            ]
          },
          "metadata": {},
          "execution_count": 125
        }
      ]
    },
    {
      "cell_type": "code",
      "source": [
        "forecast3 = model3.predict(test_df)\n",
        "prediction3 = forecast3['yhat']"
      ],
      "metadata": {
        "id": "pZPWywQlK7kA"
      },
      "execution_count": 126,
      "outputs": []
    },
    {
      "cell_type": "code",
      "source": [
        "mape3 = mean_absolute_percentage_error(test_df['y'], prediction3)\n",
        "mape3 * 100"
      ],
      "metadata": {
        "colab": {
          "base_uri": "https://localhost:8080/"
        },
        "id": "mIKfmjCNLNCA",
        "outputId": "a75174eb-ecc5-46ff-b2b5-6cdd3b67f0b8"
      },
      "execution_count": 127,
      "outputs": [
        {
          "output_type": "execute_result",
          "data": {
            "text/plain": [
              "324.3416934732103"
            ]
          },
          "metadata": {},
          "execution_count": 127
        }
      ]
    }
  ],
  "metadata": {
    "colab": {
      "name": "energy_consumption.ipynb",
      "provenance": [],
      "collapsed_sections": []
    },
    "kernelspec": {
      "display_name": "Python 3",
      "name": "python3"
    },
    "language_info": {
      "name": "python"
    }
  },
  "nbformat": 4,
  "nbformat_minor": 0
}