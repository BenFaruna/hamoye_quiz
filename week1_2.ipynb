{
 "cells": [
  {
   "cell_type": "code",
   "execution_count": 1,
   "id": "fe40e793-836c-41e6-a411-b0b22cd74fb7",
   "metadata": {},
   "outputs": [],
   "source": [
    "import numpy as np\n",
    "import pandas as pd\n",
    "import matplotlib.pyplot as plt"
   ]
  },
  {
   "cell_type": "code",
   "execution_count": 2,
   "id": "8a82b42d-bc24-4e39-a39d-56a179e08391",
   "metadata": {},
   "outputs": [],
   "source": [
    "# encoding used because file is not in utf-8 encoding\n",
    "df = pd.read_csv('data/FoodBalanceSheets_E_Africa_NOFLAG.csv', encoding=\"mbcs\")"
   ]
  },
  {
   "cell_type": "code",
   "execution_count": 3,
   "id": "e9752adb-4e41-4b71-a671-80f8e1af1c34",
   "metadata": {},
   "outputs": [
    {
     "data": {
      "text/html": [
       "<div>\n",
       "<style scoped>\n",
       "    .dataframe tbody tr th:only-of-type {\n",
       "        vertical-align: middle;\n",
       "    }\n",
       "\n",
       "    .dataframe tbody tr th {\n",
       "        vertical-align: top;\n",
       "    }\n",
       "\n",
       "    .dataframe thead th {\n",
       "        text-align: right;\n",
       "    }\n",
       "</style>\n",
       "<table border=\"1\" class=\"dataframe\">\n",
       "  <thead>\n",
       "    <tr style=\"text-align: right;\">\n",
       "      <th></th>\n",
       "      <th>Area Code</th>\n",
       "      <th>Area</th>\n",
       "      <th>Item Code</th>\n",
       "      <th>Item</th>\n",
       "      <th>Element Code</th>\n",
       "      <th>Element</th>\n",
       "      <th>Unit</th>\n",
       "      <th>Y2014</th>\n",
       "      <th>Y2015</th>\n",
       "      <th>Y2016</th>\n",
       "      <th>Y2017</th>\n",
       "      <th>Y2018</th>\n",
       "    </tr>\n",
       "  </thead>\n",
       "  <tbody>\n",
       "    <tr>\n",
       "      <th>0</th>\n",
       "      <td>4</td>\n",
       "      <td>Algeria</td>\n",
       "      <td>2501</td>\n",
       "      <td>Population</td>\n",
       "      <td>511</td>\n",
       "      <td>Total Population - Both sexes</td>\n",
       "      <td>1000 persons</td>\n",
       "      <td>38924.0</td>\n",
       "      <td>39728.0</td>\n",
       "      <td>40551.0</td>\n",
       "      <td>41389.0</td>\n",
       "      <td>42228.0</td>\n",
       "    </tr>\n",
       "    <tr>\n",
       "      <th>1</th>\n",
       "      <td>4</td>\n",
       "      <td>Algeria</td>\n",
       "      <td>2501</td>\n",
       "      <td>Population</td>\n",
       "      <td>5301</td>\n",
       "      <td>Domestic supply quantity</td>\n",
       "      <td>1000 tonnes</td>\n",
       "      <td>0.0</td>\n",
       "      <td>0.0</td>\n",
       "      <td>0.0</td>\n",
       "      <td>0.0</td>\n",
       "      <td>0.0</td>\n",
       "    </tr>\n",
       "  </tbody>\n",
       "</table>\n",
       "</div>"
      ],
      "text/plain": [
       "   Area Code     Area  Item Code        Item  Element Code  \\\n",
       "0          4  Algeria       2501  Population           511   \n",
       "1          4  Algeria       2501  Population          5301   \n",
       "\n",
       "                         Element          Unit    Y2014    Y2015    Y2016  \\\n",
       "0  Total Population - Both sexes  1000 persons  38924.0  39728.0  40551.0   \n",
       "1       Domestic supply quantity   1000 tonnes      0.0      0.0      0.0   \n",
       "\n",
       "     Y2017    Y2018  \n",
       "0  41389.0  42228.0  \n",
       "1      0.0      0.0  "
      ]
     },
     "execution_count": 3,
     "metadata": {},
     "output_type": "execute_result"
    }
   ],
   "source": [
    "df.head(2)"
   ]
  },
  {
   "cell_type": "markdown",
   "id": "ad2d306c-61a7-46a0-8114-9de89d25ab92",
   "metadata": {},
   "source": [
    "##### Question 11"
   ]
  },
  {
   "cell_type": "code",
   "execution_count": 4,
   "id": "e7d112b3-ea7b-47cc-ad80-feb0a709e3c7",
   "metadata": {},
   "outputs": [
    {
     "data": {
      "text/plain": [
       "Y2014    209460.54\n",
       "Y2017    269617.53\n",
       "Name: Animal fats, dtype: float64"
      ]
     },
     "execution_count": 4,
     "metadata": {},
     "output_type": "execute_result"
    }
   ],
   "source": [
    "df.groupby(\"Item\")[[\"Y2014\", \"Y2017\"]].sum().loc[\"Animal fats\"]"
   ]
  },
  {
   "cell_type": "markdown",
   "id": "228fc82d-6c4a-4a45-a62d-4985da9f4272",
   "metadata": {},
   "source": [
    "##### Question 12"
   ]
  },
  {
   "cell_type": "code",
   "execution_count": 5,
   "id": "50a0c5cf-b581-49db-9186-3ed067ba3d08",
   "metadata": {},
   "outputs": [
    {
     "data": {
      "text/plain": [
       "count     59395.000\n",
       "mean        135.236\n",
       "std        1603.404\n",
       "min       -3161.000\n",
       "25%           0.000\n",
       "50%           0.080\n",
       "75%           8.460\n",
       "max      181137.000\n",
       "Name: Y2015, dtype: float64"
      ]
     },
     "execution_count": 5,
     "metadata": {},
     "output_type": "execute_result"
    }
   ],
   "source": [
    "round(df.describe()[\"Y2015\"], 3)"
   ]
  },
  {
   "cell_type": "markdown",
   "id": "14f132eb-253c-49f2-b676-2de01541fa1c",
   "metadata": {},
   "source": [
    "##### Question 13"
   ]
  },
  {
   "cell_type": "code",
   "execution_count": 6,
   "id": "3862bd14-2e6b-4eb7-90ff-e03d001eeb18",
   "metadata": {},
   "outputs": [
    {
     "data": {
      "text/plain": [
       "(1535, 2.52)"
      ]
     },
     "execution_count": 6,
     "metadata": {},
     "output_type": "execute_result"
    }
   ],
   "source": [
    "missing_data = df[\"Y2016\"].isna().sum()\n",
    "percentage = (missing_data / df.shape[0]) * 100\n",
    "missing_data, round(percentage, 2)"
   ]
  },
  {
   "cell_type": "markdown",
   "id": "fb13571b-ac70-4b92-bc89-1b0053734c12",
   "metadata": {},
   "source": [
    "##### Question 14"
   ]
  },
  {
   "cell_type": "code",
   "execution_count": 7,
   "id": "402aa28a-2591-4a10-b4e3-66c23170270d",
   "metadata": {},
   "outputs": [
    {
     "data": {
      "text/plain": [
       "Y2014    0.024457\n",
       "Y2015    0.023889\n",
       "Y2016    0.023444\n",
       "Y2017    0.024254\n",
       "Y2018    0.024279\n",
       "Name: Element Code, dtype: float64"
      ]
     },
     "execution_count": 7,
     "metadata": {},
     "output_type": "execute_result"
    }
   ],
   "source": [
    "df.corr()[\"Element Code\"][\"Y2014\":]"
   ]
  },
  {
   "cell_type": "markdown",
   "id": "64b62176-c35b-4a80-b598-a85f39ee17f1",
   "metadata": {},
   "source": [
    "##### Question 15"
   ]
  },
  {
   "cell_type": "code",
   "execution_count": 8,
   "id": "131167e9-776c-47f7-9401-fb0418e6a526",
   "metadata": {},
   "outputs": [
    {
     "data": {
      "text/plain": [
       "Y2014    274144.48\n",
       "Y2015    267018.46\n",
       "Y2016    286582.78\n",
       "Y2017    294559.09\n",
       "Y2018    287997.09\n",
       "Name: Import Quantity, dtype: float64"
      ]
     },
     "execution_count": 8,
     "metadata": {},
     "output_type": "execute_result"
    }
   ],
   "source": [
    "df.groupby(\"Element\").sum().loc[\"Import Quantity\", \"Y2014\":]"
   ]
  },
  {
   "cell_type": "markdown",
   "id": "96943274-2cb7-4fa7-bd09-47e1ec6057fa",
   "metadata": {},
   "source": [
    "##### Question 16"
   ]
  },
  {
   "cell_type": "code",
   "execution_count": 9,
   "id": "eb51d73e-124c-4170-a184-53072523412b",
   "metadata": {},
   "outputs": [
    {
     "data": {
      "text/plain": [
       "Y2014    1931287.75\n",
       "Y2015    1947019.39\n",
       "Y2016    1943537.15\n",
       "Y2017    2030056.89\n",
       "Y2018    2075072.89\n",
       "Name: Production, dtype: float64"
      ]
     },
     "execution_count": 9,
     "metadata": {},
     "output_type": "execute_result"
    }
   ],
   "source": [
    "df.groupby(\"Element\").sum().loc[\"Production\", \"Y2014\":]"
   ]
  },
  {
   "cell_type": "code",
   "execution_count": 10,
   "id": "6697fb96-b937-4f9e-9709-3e09a5bff710",
   "metadata": {},
   "outputs": [
    {
     "data": {
      "text/html": [
       "<div>\n",
       "<style scoped>\n",
       "    .dataframe tbody tr th:only-of-type {\n",
       "        vertical-align: middle;\n",
       "    }\n",
       "\n",
       "    .dataframe tbody tr th {\n",
       "        vertical-align: top;\n",
       "    }\n",
       "\n",
       "    .dataframe thead th {\n",
       "        text-align: right;\n",
       "    }\n",
       "</style>\n",
       "<table border=\"1\" class=\"dataframe\">\n",
       "  <thead>\n",
       "    <tr style=\"text-align: right;\">\n",
       "      <th></th>\n",
       "      <th>Y2018</th>\n",
       "    </tr>\n",
       "    <tr>\n",
       "      <th>Element</th>\n",
       "      <th></th>\n",
       "    </tr>\n",
       "  </thead>\n",
       "  <tbody>\n",
       "    <tr>\n",
       "      <th>Domestic supply quantity</th>\n",
       "      <td>2161192.10</td>\n",
       "    </tr>\n",
       "    <tr>\n",
       "      <th>Production</th>\n",
       "      <td>2075072.89</td>\n",
       "    </tr>\n",
       "    <tr>\n",
       "      <th>Food</th>\n",
       "      <td>1303841.28</td>\n",
       "    </tr>\n",
       "    <tr>\n",
       "      <th>Total Population - Both sexes</th>\n",
       "      <td>1140605.00</td>\n",
       "    </tr>\n",
       "    <tr>\n",
       "      <th>Food supply (kcal/capita/day)</th>\n",
       "      <td>455261.00</td>\n",
       "    </tr>\n",
       "  </tbody>\n",
       "</table>\n",
       "</div>"
      ],
      "text/plain": [
       "                                    Y2018\n",
       "Element                                  \n",
       "Domestic supply quantity       2161192.10\n",
       "Production                     2075072.89\n",
       "Food                           1303841.28\n",
       "Total Population - Both sexes  1140605.00\n",
       "Food supply (kcal/capita/day)   455261.00"
      ]
     },
     "execution_count": 10,
     "metadata": {},
     "output_type": "execute_result"
    }
   ],
   "source": [
    "df[[\"Y2018\", \"Element\"]].groupby(\"Element\").sum().sort_values(\"Y2018\", ascending=False).head()"
   ]
  },
  {
   "cell_type": "markdown",
   "id": "c69c51dc-04bf-4128-af34-a20d2a331390",
   "metadata": {},
   "source": [
    "##### Question 18"
   ]
  },
  {
   "cell_type": "code",
   "execution_count": 11,
   "id": "a58d7910-2d20-40c1-96e7-efb069745f18",
   "metadata": {},
   "outputs": [
    {
     "data": {
      "text/html": [
       "<div>\n",
       "<style scoped>\n",
       "    .dataframe tbody tr th:only-of-type {\n",
       "        vertical-align: middle;\n",
       "    }\n",
       "\n",
       "    .dataframe tbody tr th {\n",
       "        vertical-align: top;\n",
       "    }\n",
       "\n",
       "    .dataframe thead th {\n",
       "        text-align: right;\n",
       "    }\n",
       "</style>\n",
       "<table border=\"1\" class=\"dataframe\">\n",
       "  <thead>\n",
       "    <tr style=\"text-align: right;\">\n",
       "      <th></th>\n",
       "      <th>Y2018</th>\n",
       "    </tr>\n",
       "    <tr>\n",
       "      <th>Element</th>\n",
       "      <th></th>\n",
       "    </tr>\n",
       "  </thead>\n",
       "  <tbody>\n",
       "    <tr>\n",
       "      <th>Tourist consumption</th>\n",
       "      <td>90.00</td>\n",
       "    </tr>\n",
       "    <tr>\n",
       "      <th>Fat supply quantity (g/capita/day)</th>\n",
       "      <td>10258.69</td>\n",
       "    </tr>\n",
       "    <tr>\n",
       "      <th>Protein supply quantity (g/capita/day)</th>\n",
       "      <td>11833.56</td>\n",
       "    </tr>\n",
       "    <tr>\n",
       "      <th>Stock Variation</th>\n",
       "      <td>20577.91</td>\n",
       "    </tr>\n",
       "    <tr>\n",
       "      <th>Seed</th>\n",
       "      <td>25263.14</td>\n",
       "    </tr>\n",
       "  </tbody>\n",
       "</table>\n",
       "</div>"
      ],
      "text/plain": [
       "                                           Y2018\n",
       "Element                                         \n",
       "Tourist consumption                        90.00\n",
       "Fat supply quantity (g/capita/day)      10258.69\n",
       "Protein supply quantity (g/capita/day)  11833.56\n",
       "Stock Variation                         20577.91\n",
       "Seed                                    25263.14"
      ]
     },
     "execution_count": 11,
     "metadata": {},
     "output_type": "execute_result"
    }
   ],
   "source": [
    "df[[\"Y2018\", \"Element\"]].groupby(\"Element\").sum().sort_values(\"Y2018\").head()"
   ]
  },
  {
   "cell_type": "markdown",
   "id": "e1e545c7-c19f-4ae7-ab8c-8a233b6b9efb",
   "metadata": {},
   "source": [
    "##### Question 19"
   ]
  },
  {
   "cell_type": "code",
   "execution_count": 12,
   "id": "17201fe6-e2e2-4943-b577-f2e83ad54012",
   "metadata": {},
   "outputs": [
    {
     "data": {
      "text/plain": [
       "array(['Total Population - Both sexes', 'Domestic supply quantity',\n",
       "       'Food supply (kcal/capita/day)',\n",
       "       'Protein supply quantity (g/capita/day)',\n",
       "       'Fat supply quantity (g/capita/day)', 'Production',\n",
       "       'Import Quantity', 'Stock Variation', 'Export Quantity', 'Feed',\n",
       "       'Seed', 'Losses', 'Processing', 'Other uses (non-food)',\n",
       "       'Residuals', 'Food', 'Food supply quantity (kg/capita/yr)',\n",
       "       'Tourist consumption'], dtype=object)"
      ]
     },
     "execution_count": 12,
     "metadata": {},
     "output_type": "execute_result"
    }
   ],
   "source": [
    "df[\"Element\"].unique()"
   ]
  },
  {
   "cell_type": "code",
   "execution_count": 13,
   "id": "39f7d6dd-5e7e-443c-9390-fa40ba99a94a",
   "metadata": {},
   "outputs": [
    {
     "data": {
      "text/html": [
       "<div>\n",
       "<style scoped>\n",
       "    .dataframe tbody tr th:only-of-type {\n",
       "        vertical-align: middle;\n",
       "    }\n",
       "\n",
       "    .dataframe tbody tr th {\n",
       "        vertical-align: top;\n",
       "    }\n",
       "\n",
       "    .dataframe thead th {\n",
       "        text-align: right;\n",
       "    }\n",
       "</style>\n",
       "<table border=\"1\" class=\"dataframe\">\n",
       "  <thead>\n",
       "    <tr style=\"text-align: right;\">\n",
       "      <th></th>\n",
       "      <th>Y2018</th>\n",
       "    </tr>\n",
       "    <tr>\n",
       "      <th>Element</th>\n",
       "      <th></th>\n",
       "    </tr>\n",
       "  </thead>\n",
       "  <tbody>\n",
       "    <tr>\n",
       "      <th>Domestic supply quantity</th>\n",
       "      <td>90023.42</td>\n",
       "    </tr>\n",
       "    <tr>\n",
       "      <th>Export Quantity</th>\n",
       "      <td>811.54</td>\n",
       "    </tr>\n",
       "    <tr>\n",
       "      <th>Fat supply quantity (g/capita/day)</th>\n",
       "      <td>309.09</td>\n",
       "    </tr>\n",
       "    <tr>\n",
       "      <th>Feed</th>\n",
       "      <td>10668.00</td>\n",
       "    </tr>\n",
       "    <tr>\n",
       "      <th>Food</th>\n",
       "      <td>63736.33</td>\n",
       "    </tr>\n",
       "    <tr>\n",
       "      <th>Food supply (kcal/capita/day)</th>\n",
       "      <td>13288.00</td>\n",
       "    </tr>\n",
       "    <tr>\n",
       "      <th>Food supply quantity (kg/capita/yr)</th>\n",
       "      <td>1509.28</td>\n",
       "    </tr>\n",
       "    <tr>\n",
       "      <th>Import Quantity</th>\n",
       "      <td>36238.29</td>\n",
       "    </tr>\n",
       "    <tr>\n",
       "      <th>Losses</th>\n",
       "      <td>7708.00</td>\n",
       "    </tr>\n",
       "    <tr>\n",
       "      <th>Other uses (non-food)</th>\n",
       "      <td>3970.08</td>\n",
       "    </tr>\n",
       "    <tr>\n",
       "      <th>Processing</th>\n",
       "      <td>2479.00</td>\n",
       "    </tr>\n",
       "    <tr>\n",
       "      <th>Production</th>\n",
       "      <td>60766.67</td>\n",
       "    </tr>\n",
       "    <tr>\n",
       "      <th>Protein supply quantity (g/capita/day)</th>\n",
       "      <td>367.28</td>\n",
       "    </tr>\n",
       "    <tr>\n",
       "      <th>Residuals</th>\n",
       "      <td>630.00</td>\n",
       "    </tr>\n",
       "    <tr>\n",
       "      <th>Seed</th>\n",
       "      <td>825.00</td>\n",
       "    </tr>\n",
       "    <tr>\n",
       "      <th>Stock Variation</th>\n",
       "      <td>6172.00</td>\n",
       "    </tr>\n",
       "    <tr>\n",
       "      <th>Total Population - Both sexes</th>\n",
       "      <td>42228.00</td>\n",
       "    </tr>\n",
       "  </tbody>\n",
       "</table>\n",
       "</div>"
      ],
      "text/plain": [
       "                                           Y2018\n",
       "Element                                         \n",
       "Domestic supply quantity                90023.42\n",
       "Export Quantity                           811.54\n",
       "Fat supply quantity (g/capita/day)        309.09\n",
       "Feed                                    10668.00\n",
       "Food                                    63736.33\n",
       "Food supply (kcal/capita/day)           13288.00\n",
       "Food supply quantity (kg/capita/yr)      1509.28\n",
       "Import Quantity                         36238.29\n",
       "Losses                                   7708.00\n",
       "Other uses (non-food)                    3970.08\n",
       "Processing                               2479.00\n",
       "Production                              60766.67\n",
       "Protein supply quantity (g/capita/day)    367.28\n",
       "Residuals                                 630.00\n",
       "Seed                                      825.00\n",
       "Stock Variation                          6172.00\n",
       "Total Population - Both sexes           42228.00"
      ]
     },
     "execution_count": 13,
     "metadata": {},
     "output_type": "execute_result"
    }
   ],
   "source": [
    "df[df[\"Area\"] == \"Algeria\"][[\"Element\", \"Y2018\"]].groupby(\"Element\").sum()"
   ]
  },
  {
   "cell_type": "markdown",
   "id": "92da75f4-ecb0-4e3a-bb13-d996cdcc6ea4",
   "metadata": {},
   "source": [
    "##### Question 20"
   ]
  },
  {
   "cell_type": "code",
   "execution_count": 14,
   "id": "d44542db-92c0-4d48-8a1f-1eaa2a5bea2c",
   "metadata": {},
   "outputs": [
    {
     "data": {
      "text/plain": [
       "49"
      ]
     },
     "execution_count": 14,
     "metadata": {},
     "output_type": "execute_result"
    }
   ],
   "source": [
    "df[\"Area\"].nunique()"
   ]
  }
 ],
 "metadata": {
  "kernelspec": {
   "display_name": "Python 3",
   "language": "python",
   "name": "python3"
  },
  "language_info": {
   "codemirror_mode": {
    "name": "ipython",
    "version": 3
   },
   "file_extension": ".py",
   "mimetype": "text/x-python",
   "name": "python",
   "nbconvert_exporter": "python",
   "pygments_lexer": "ipython3",
   "version": "3.8.8"
  },
  "widgets": {
   "application/vnd.jupyter.widget-state+json": {
    "state": {},
    "version_major": 2,
    "version_minor": 0
   }
  }
 },
 "nbformat": 4,
 "nbformat_minor": 5
}
